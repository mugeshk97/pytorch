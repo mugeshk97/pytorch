{
 "cells": [
  {
   "cell_type": "markdown",
   "metadata": {},
   "source": [
    "## Linear Regression using pytorch built-ins"
   ]
  },
  {
   "cell_type": "code",
   "execution_count": 1,
   "metadata": {},
   "outputs": [],
   "source": [
    "import torch\n",
    "import torch.nn as nn\n",
    "import pandas as pd\n",
    "import numpy as np\n",
    "import warnings\n",
    "warnings.filterwarnings('ignore')"
   ]
  },
  {
   "cell_type": "code",
   "execution_count": 2,
   "metadata": {},
   "outputs": [
    {
     "data": {
      "text/html": [
       "<div>\n",
       "<style scoped>\n",
       "    .dataframe tbody tr th:only-of-type {\n",
       "        vertical-align: middle;\n",
       "    }\n",
       "\n",
       "    .dataframe tbody tr th {\n",
       "        vertical-align: top;\n",
       "    }\n",
       "\n",
       "    .dataframe thead th {\n",
       "        text-align: right;\n",
       "    }\n",
       "</style>\n",
       "<table border=\"1\" class=\"dataframe\">\n",
       "  <thead>\n",
       "    <tr style=\"text-align: right;\">\n",
       "      <th></th>\n",
       "      <th>Temperature</th>\n",
       "      <th>Humidity</th>\n",
       "      <th>WindSpeed</th>\n",
       "      <th>Visibility</th>\n",
       "      <th>Pressure</th>\n",
       "    </tr>\n",
       "  </thead>\n",
       "  <tbody>\n",
       "    <tr>\n",
       "      <th>0</th>\n",
       "      <td>9.472222</td>\n",
       "      <td>0.89</td>\n",
       "      <td>14.1197</td>\n",
       "      <td>15.8263</td>\n",
       "      <td>1015.13</td>\n",
       "    </tr>\n",
       "    <tr>\n",
       "      <th>1</th>\n",
       "      <td>9.355556</td>\n",
       "      <td>0.86</td>\n",
       "      <td>14.2646</td>\n",
       "      <td>15.8263</td>\n",
       "      <td>1015.63</td>\n",
       "    </tr>\n",
       "    <tr>\n",
       "      <th>2</th>\n",
       "      <td>9.377778</td>\n",
       "      <td>0.89</td>\n",
       "      <td>3.9284</td>\n",
       "      <td>14.9569</td>\n",
       "      <td>1015.94</td>\n",
       "    </tr>\n",
       "    <tr>\n",
       "      <th>3</th>\n",
       "      <td>8.288889</td>\n",
       "      <td>0.83</td>\n",
       "      <td>14.1036</td>\n",
       "      <td>15.8263</td>\n",
       "      <td>1016.41</td>\n",
       "    </tr>\n",
       "    <tr>\n",
       "      <th>4</th>\n",
       "      <td>8.755556</td>\n",
       "      <td>0.83</td>\n",
       "      <td>11.0446</td>\n",
       "      <td>15.8263</td>\n",
       "      <td>1016.51</td>\n",
       "    </tr>\n",
       "  </tbody>\n",
       "</table>\n",
       "</div>"
      ],
      "text/plain": [
       "   Temperature  Humidity  WindSpeed  Visibility  Pressure\n",
       "0     9.472222      0.89    14.1197     15.8263   1015.13\n",
       "1     9.355556      0.86    14.2646     15.8263   1015.63\n",
       "2     9.377778      0.89     3.9284     14.9569   1015.94\n",
       "3     8.288889      0.83    14.1036     15.8263   1016.41\n",
       "4     8.755556      0.83    11.0446     15.8263   1016.51"
      ]
     },
     "execution_count": 2,
     "metadata": {},
     "output_type": "execute_result"
    }
   ],
   "source": [
    "df = pd.read_csv('linear.csv')\n",
    "df.head()"
   ]
  },
  {
   "cell_type": "code",
   "execution_count": 3,
   "metadata": {},
   "outputs": [],
   "source": [
    "from sklearn.model_selection import train_test_split"
   ]
  },
  {
   "cell_type": "code",
   "execution_count": 4,
   "metadata": {},
   "outputs": [],
   "source": [
    "# Predicting the temperature based on other features\n",
    "inputs = df.drop('Temperature',axis=1).values\n",
    "inputs = inputs.astype('float32')\n",
    "target = df.Temperature.values\n",
    "target = target.astype('float32')"
   ]
  },
  {
   "cell_type": "code",
   "execution_count": 5,
   "metadata": {},
   "outputs": [],
   "source": [
    "X_train, X_test, y_train, y_test = train_test_split( inputs, target, test_size=0.1, random_state=42)"
   ]
  },
  {
   "cell_type": "markdown",
   "metadata": {},
   "source": [
    "###### Convert numpy to tensor"
   ]
  },
  {
   "cell_type": "code",
   "execution_count": 6,
   "metadata": {},
   "outputs": [],
   "source": [
    "inputs = torch.from_numpy(X_train)\n",
    "target = torch.from_numpy(y_train)\n",
    "test_inputs = torch.from_numpy(X_test)\n",
    "test_target = torch.from_numpy(y_test)"
   ]
  },
  {
   "cell_type": "code",
   "execution_count": 7,
   "metadata": {},
   "outputs": [],
   "source": [
    "from torch.utils.data import TensorDataset"
   ]
  },
  {
   "cell_type": "code",
   "execution_count": 8,
   "metadata": {},
   "outputs": [],
   "source": [
    "train = TensorDataset(inputs,target)"
   ]
  },
  {
   "cell_type": "markdown",
   "metadata": {},
   "source": [
    "###### Data Loader helps to split up into batches \n",
    "Because we are going give the model a huge amount of data"
   ]
  },
  {
   "cell_type": "code",
   "execution_count": 9,
   "metadata": {},
   "outputs": [],
   "source": [
    "from torch.utils.data import DataLoader\n",
    "batch_size = 32\n",
    "dl = DataLoader(train, batch_size, shuffle=True)"
   ]
  },
  {
   "cell_type": "code",
   "execution_count": 10,
   "metadata": {},
   "outputs": [
    {
     "name": "stdout",
     "output_type": "stream",
     "text": [
      "batch :\n",
      "tensor([[8.6000e-01, 7.1484e+00, 1.1061e+01, 1.0040e+03],\n",
      "        [3.4000e-01, 3.2522e+00, 1.6100e+01, 1.0154e+03],\n",
      "        [5.2000e-01, 1.7823e+01, 1.5826e+01, 1.0158e+03],\n",
      "        [8.9000e-01, 6.1502e+00, 9.7566e+00, 1.0155e+03],\n",
      "        [7.1000e-01, 1.6986e+01, 1.5826e+01, 1.0132e+03],\n",
      "        [7.2000e-01, 2.0528e+01, 1.0046e+01, 1.0097e+03],\n",
      "        [8.7000e-01, 4.8461e+00, 5.1520e-01, 1.0315e+03],\n",
      "        [9.6000e-01, 6.4400e+00, 9.7405e+00, 1.0205e+03],\n",
      "        [7.8000e-01, 6.2790e+00, 1.5826e+01, 1.0160e+03],\n",
      "        [9.0000e-01, 4.8300e+00, 1.5134e+01, 1.0218e+03],\n",
      "        [5.4000e-01, 1.3508e+01, 1.5826e+01, 1.0216e+03],\n",
      "        [7.6000e-01, 6.3756e+00, 1.6100e+01, 1.0119e+03],\n",
      "        [5.9000e-01, 1.9272e+01, 1.1399e+01, 1.0130e+03],\n",
      "        [8.1000e-01, 1.4876e+01, 7.9695e+00, 1.0268e+03],\n",
      "        [5.3000e-01, 6.9069e+00, 1.1399e+01, 1.0083e+03],\n",
      "        [8.5000e-01, 0.0000e+00, 9.9820e+00, 0.0000e+00],\n",
      "        [6.6000e-01, 1.2107e+01, 1.0046e+01, 1.0184e+03],\n",
      "        [8.3000e-01, 9.4346e+00, 1.4957e+01, 1.0129e+03],\n",
      "        [9.4000e-01, 3.4454e+00, 6.2629e+00, 1.0316e+03],\n",
      "        [7.8000e-01, 3.0751e+00, 1.6100e+01, 1.0151e+03],\n",
      "        [6.0000e-01, 3.3649e+00, 1.5182e+01, 1.0195e+03],\n",
      "        [8.1000e-01, 2.5567e+01, 1.6100e+01, 1.0198e+03],\n",
      "        [9.3000e-01, 6.4400e+00, 1.4957e+01, 1.0251e+03],\n",
      "        [9.1000e-01, 4.1216e+00, 1.1206e+01, 1.0005e+03],\n",
      "        [7.2000e-01, 7.5026e+00, 1.1206e+01, 1.0093e+03],\n",
      "        [5.8000e-01, 1.5601e+01, 1.6100e+01, 1.0165e+03],\n",
      "        [9.3000e-01, 4.8300e+00, 1.1270e+01, 1.0167e+03],\n",
      "        [8.2000e-01, 1.1077e+01, 9.9820e+00, 1.0217e+03],\n",
      "        [6.7000e-01, 2.4601e+01, 8.3720e+00, 1.0098e+03],\n",
      "        [7.7000e-01, 1.2027e+01, 1.0352e+01, 1.0078e+03],\n",
      "        [8.3000e-01, 6.9230e+00, 8.1788e+00, 1.0310e+03],\n",
      "        [6.9000e-01, 1.7662e+01, 1.1270e+01, 1.0222e+03]])\n",
      "tensor([ -1.0944,  31.0667,  18.8833,   3.7944,  12.0833,  15.9944, -10.6056,\n",
      "          2.5667,  16.5000,  13.6833,  27.5278,  22.2444,   3.8111,   5.1389,\n",
      "         13.0167,  10.0500,  22.7556,  15.7278,   8.0722,  17.1611,  15.4944,\n",
      "          3.9167,  10.8556,  19.1167,  17.1667,  26.1389,  18.8889,   3.8444,\n",
      "         12.1111,  21.4222,  -0.1389,   1.2278])\n"
     ]
    }
   ],
   "source": [
    "for x,y in dl:\n",
    "    print('batch :' )\n",
    "    print(x)\n",
    "    print(y)\n",
    "    break"
   ]
  },
  {
   "cell_type": "markdown",
   "metadata": {},
   "source": [
    "###### Linear model and initializing the weights and biases"
   ]
  },
  {
   "cell_type": "code",
   "execution_count": 11,
   "metadata": {},
   "outputs": [
    {
     "name": "stdout",
     "output_type": "stream",
     "text": [
      "Parameter containing:\n",
      "tensor([[-0.1739, -0.1386,  0.3378,  0.3572]], requires_grad=True)\n",
      "Parameter containing:\n",
      "tensor([0.4643], requires_grad=True)\n"
     ]
    }
   ],
   "source": [
    "model = nn.Linear(4, 1) # 4 input  and 1 output\n",
    "print(model.weight)\n",
    "print(model.bias)"
   ]
  },
  {
   "cell_type": "code",
   "execution_count": 12,
   "metadata": {},
   "outputs": [
    {
     "data": {
      "text/plain": [
       "tensor([[365.9384],\n",
       "        [365.2283],\n",
       "        [367.0817],\n",
       "        ...,\n",
       "        [366.9157],\n",
       "        [366.7019],\n",
       "        [364.2708]], grad_fn=<AddmmBackward>)"
      ]
     },
     "execution_count": 12,
     "metadata": {},
     "output_type": "execute_result"
    }
   ],
   "source": [
    "preds = model(test_inputs)\n",
    "preds"
   ]
  },
  {
   "cell_type": "markdown",
   "metadata": {},
   "source": [
    "###### Loss function"
   ]
  },
  {
   "cell_type": "code",
   "execution_count": 13,
   "metadata": {},
   "outputs": [],
   "source": [
    "import torch.nn.functional as functional\n",
    "mse = functional.mse_loss"
   ]
  },
  {
   "cell_type": "code",
   "execution_count": 14,
   "metadata": {},
   "outputs": [
    {
     "data": {
      "text/plain": [
       "tensor(123750.9375, grad_fn=<MseLossBackward>)"
      ]
     },
     "execution_count": 14,
     "metadata": {},
     "output_type": "execute_result"
    }
   ],
   "source": [
    "mse(model(test_inputs),test_target)"
   ]
  },
  {
   "cell_type": "markdown",
   "metadata": {},
   "source": [
    "###### Optimizer"
   ]
  },
  {
   "cell_type": "code",
   "execution_count": 15,
   "metadata": {},
   "outputs": [],
   "source": [
    "optimizer = torch.optim.Adam(model.parameters(), lr=0.01)"
   ]
  },
  {
   "cell_type": "markdown",
   "metadata": {},
   "source": [
    "#### TRAIN THE MODEL"
   ]
  },
  {
   "cell_type": "markdown",
   "metadata": {},
   "source": [
    "1. Generate predictions\n",
    "2. Calculate the loss\n",
    "3. Compute gradients w.r.t the weights and biases\n",
    "4. Adjust the weights by subtracting a small quantity proportional to the gradient\n",
    "5. Reset the gradients to zero"
   ]
  },
  {
   "cell_type": "code",
   "execution_count": 16,
   "metadata": {},
   "outputs": [],
   "source": [
    "def Train(data_loader,model,loss_func,optimizer,epochs):    \n",
    "    for epoch in range(epochs):        \n",
    "        for x,y in data_loader:            \n",
    "            # 1. Generate predictions\n",
    "            pred = model(x)            \n",
    "            # 2. Calculate loss\n",
    "            loss = loss_func(pred, y)\n",
    "            # 3. Compute gradients\n",
    "            loss.backward()\n",
    "            # 4. Update parameters using gradients\n",
    "            optimizer.step()\n",
    "            # 5. Reset the gradients to zero\n",
    "            optimizer.zero_grad()\n",
    "        print(f'Epoch [{epoch+1}/{epochs}]  ------ Loss : {loss}')"
   ]
  },
  {
   "cell_type": "code",
   "execution_count": 17,
   "metadata": {},
   "outputs": [
    {
     "name": "stdout",
     "output_type": "stream",
     "text": [
      "Epoch [1/30]  ------ Loss : 119.55933380126953\n",
      "Epoch [2/30]  ------ Loss : 67.31321716308594\n",
      "Epoch [3/30]  ------ Loss : 82.00146484375\n",
      "Epoch [4/30]  ------ Loss : 123.18421173095703\n",
      "Epoch [5/30]  ------ Loss : 48.12145233154297\n",
      "Epoch [6/30]  ------ Loss : 130.91159057617188\n",
      "Epoch [7/30]  ------ Loss : 58.525943756103516\n",
      "Epoch [8/30]  ------ Loss : 125.42140197753906\n",
      "Epoch [9/30]  ------ Loss : 87.766845703125\n",
      "Epoch [10/30]  ------ Loss : 78.9830551147461\n",
      "Epoch [11/30]  ------ Loss : 50.44871139526367\n",
      "Epoch [12/30]  ------ Loss : 56.8448600769043\n",
      "Epoch [13/30]  ------ Loss : 140.05050659179688\n",
      "Epoch [14/30]  ------ Loss : 113.74604034423828\n",
      "Epoch [15/30]  ------ Loss : 106.28412628173828\n",
      "Epoch [16/30]  ------ Loss : 82.95130920410156\n",
      "Epoch [17/30]  ------ Loss : 55.56040954589844\n",
      "Epoch [18/30]  ------ Loss : 108.8739242553711\n",
      "Epoch [19/30]  ------ Loss : 79.78697967529297\n",
      "Epoch [20/30]  ------ Loss : 93.8116226196289\n",
      "Epoch [21/30]  ------ Loss : 120.15497589111328\n",
      "Epoch [22/30]  ------ Loss : 114.9577407836914\n",
      "Epoch [23/30]  ------ Loss : 60.16567611694336\n",
      "Epoch [24/30]  ------ Loss : 80.75016784667969\n",
      "Epoch [25/30]  ------ Loss : 67.23800659179688\n",
      "Epoch [26/30]  ------ Loss : 91.41062927246094\n",
      "Epoch [27/30]  ------ Loss : 133.78932189941406\n",
      "Epoch [28/30]  ------ Loss : 82.43387603759766\n",
      "Epoch [29/30]  ------ Loss : 125.30137634277344\n",
      "Epoch [30/30]  ------ Loss : 111.5201187133789\n"
     ]
    }
   ],
   "source": [
    "Train(dl,model,mse,optimizer,30)"
   ]
  },
  {
   "cell_type": "code",
   "execution_count": 18,
   "metadata": {},
   "outputs": [],
   "source": [
    "prediction = model(test_inputs)"
   ]
  },
  {
   "cell_type": "code",
   "execution_count": 19,
   "metadata": {},
   "outputs": [
    {
     "data": {
      "text/plain": [
       "tensor([28.1222, 10.0000, 14.4000,  ..., 28.0333, 10.5278,  5.8056])"
      ]
     },
     "execution_count": 19,
     "metadata": {},
     "output_type": "execute_result"
    }
   ],
   "source": [
    "test_target"
   ]
  },
  {
   "cell_type": "code",
   "execution_count": 20,
   "metadata": {},
   "outputs": [
    {
     "data": {
      "text/plain": [
       "tensor([[15.0545],\n",
       "        [14.6495],\n",
       "        [14.7801],\n",
       "        ...,\n",
       "        [15.1452],\n",
       "        [14.8978],\n",
       "        [14.8827]], grad_fn=<AddmmBackward>)"
      ]
     },
     "execution_count": 20,
     "metadata": {},
     "output_type": "execute_result"
    }
   ],
   "source": [
    "prediction"
   ]
  },
  {
   "cell_type": "code",
   "execution_count": 21,
   "metadata": {},
   "outputs": [
    {
     "name": "stdout",
     "output_type": "stream",
     "text": [
      "tensor(100.8846, grad_fn=<MseLossBackward>)\n"
     ]
    }
   ],
   "source": [
    "error = mse(prediction,test_target)\n",
    "print(error)"
   ]
  }
 ],
 "metadata": {
  "kernelspec": {
   "display_name": "Python 3",
   "language": "python",
   "name": "python3"
  },
  "language_info": {
   "codemirror_mode": {
    "name": "ipython",
    "version": 3
   },
   "file_extension": ".py",
   "mimetype": "text/x-python",
   "name": "python",
   "nbconvert_exporter": "python",
   "pygments_lexer": "ipython3",
   "version": "3.7.6"
  }
 },
 "nbformat": 4,
 "nbformat_minor": 4
}
